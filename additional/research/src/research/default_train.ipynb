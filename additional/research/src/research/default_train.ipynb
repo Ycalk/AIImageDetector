{
 "cells": [
  {
   "cell_type": "markdown",
   "id": "d16c08b4",
   "metadata": {},
   "source": [
    "# Использование дефолтных параметров для обучения"
   ]
  },
  {
   "cell_type": "code",
   "execution_count": 2,
   "id": "33643ca4",
   "metadata": {},
   "outputs": [],
   "source": [
    "import utils\n",
    "import torch"
   ]
  },
  {
   "cell_type": "code",
   "execution_count": 4,
   "id": "acd5aae1",
   "metadata": {},
   "outputs": [
    {
     "data": {
      "text/plain": [
       "'NVIDIA GeForce GTX 1650'"
      ]
     },
     "execution_count": 4,
     "metadata": {},
     "output_type": "execute_result"
    }
   ],
   "source": [
    "torch.cuda.get_device_name()"
   ]
  },
  {
   "cell_type": "code",
   "execution_count": null,
   "id": "04eb1239",
   "metadata": {},
   "outputs": [],
   "source": [
    "model = utils.Model()\n",
    "trainer = utils.Trainer(\n",
    "    model=model,\n",
    "    dataset=utils.ArtiFactDataset.get_merged_dataset(size=1000),\n",
    "    epochs=30,\n",
    "    batch_size=64,\n",
    "    lr=0.001,\n",
    "    device=\"cuda\"\n",
    ")\n",
    "result = trainer()"
   ]
  }
 ],
 "metadata": {
  "kernelspec": {
   "display_name": "research-PX4yLAXf-py3.11",
   "language": "python",
   "name": "python3"
  },
  "language_info": {
   "codemirror_mode": {
    "name": "ipython",
    "version": 3
   },
   "file_extension": ".py",
   "mimetype": "text/x-python",
   "name": "python",
   "nbconvert_exporter": "python",
   "pygments_lexer": "ipython3",
   "version": "3.11.9"
  }
 },
 "nbformat": 4,
 "nbformat_minor": 5
}
